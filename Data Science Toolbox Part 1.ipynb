{
 "cells": [
  {
   "cell_type": "markdown",
   "metadata": {},
   "source": [
    "# 1. User-defined functions\n",
    "\n",
    "## 1.1 Strings in Python\n",
    "In the video, you learned of another standard Python datatype, **strings**. Recall that these represent textual data. To assign the string **`DataCamp`** to a variable **`company`**, you execute: \n",
    "\n",
    "**`company = 'DataCamp'`**\n",
    "\n",
    "You've also learned to use the operations **`+`** and **`*`** with strings. Unlike with numeric types such as ints and floats, the + operator concatenates strings together, while the * concatenates multiple copies of a string together. In this exercise, you will use the + and * operations on strings to answer the question below. Execute the following code in the shell:\n",
    "\n",
    "**`\n",
    "object1 = \"data\" + \"analysis\" + \"visualization\"\n",
    "object2 = 1 * 3\n",
    "object3 = \"1\" * 3\n",
    "`**\n",
    "\n",
    "What are the values in **`object1, object2, and object3`**, respectively?\n"
   ]
  },
  {
   "cell_type": "markdown",
   "metadata": {},
   "source": [
    "Answer: \n",
    "**`\n",
    "object1 contains \"dataanalysisvisualization\", object2 contains 3, object3 contains \"111\".\n",
    "`**"
   ]
  },
  {
   "cell_type": "markdown",
   "metadata": {},
   "source": [
    "## 1.2 Recapping built-in functions\n",
    "\n",
    "In the video, Hugo briefly examined the return behavior of the built-in functions **`print() and str()`**. Here, you will use both functions and examine their return values. A variable **`x`** has been preloaded for this exercise. Run the code below in the console. Pay close attention to the results to answer the question that follows.\n",
    "\n",
    "Assign `str(x)` to a variable `y1: y1 = str(x)`\n",
    "Assign `print(x)` to a variable `y2: y2 = print(x)`\n",
    "Check the types of the variables `x, y1, and y2`.\n",
    "What are the types of `x, y1, and y2`?\n",
    "\n",
    "To check the **type** of a variablein Python: use **`type`** e.g. `print(type(y1))`"
   ]
  },
  {
   "cell_type": "markdown",
   "metadata": {},
   "source": [
    "**Answer:** `x is a float, y1 is a str, and y2 is a NoneType.` A **`nonetype`** variable is the type for the `None` object, which is an object that indicates no value. You cannot add it to strings or other objects"
   ]
  },
  {
   "cell_type": "markdown",
   "metadata": {},
   "source": [
    "## 1.3 Write a simple function\n",
    "\n",
    "In the last video, Hugo described the basics of how to define a function. You will now write your own function!\n",
    "\n",
    "Define a function, **`shout()`**, which simply prints out a string with three exclamation marks '!!!' at the end. The code for the square() function that we wrote earlier is found below. You can use it as a pattern to define shout().\n",
    "\n",
    "```\n",
    "def square():\n",
    "    new_value = 4 ** 2\n",
    "    return new_value\n",
    "```\n",
    "\n",
    "Note that the function body is indented 4 spaces already for you. Function bodies need to be indented by a consistent number of spaces and the choice of 4 is common.\n",
    "\n",
    "### Instructions\n",
    "* Complete the function header by adding the appropriate function name, **`shout`**.\n",
    "* In the function body, **concatenate** the string, 'congratulations' with another string, '!!!'. Assign the result to `shout_word`.\n",
    "* Print the value of `shout_word`.\n",
    "* Call the `shout` function."
   ]
  },
  {
   "cell_type": "code",
   "execution_count": 2,
   "metadata": {
    "collapsed": false
   },
   "outputs": [],
   "source": [
    "def shout(): #this is how to define a function\n",
    "    \"\"\"Print a string with three exclamation marks\"\"\" #This is for code docummentation. Use three inverted commas e.g.\"\"\"this is a comment\"\"\"\n",
    "    #Concantenates the strings: shout_word\n",
    "    shout_word = \"congratulations\" + \"!!!\"\n",
    "    print (shout_word)"
   ]
  },
  {
   "cell_type": "code",
   "execution_count": 4,
   "metadata": {
    "collapsed": false
   },
   "outputs": [
    {
     "name": "stdout",
     "output_type": "stream",
     "text": [
      "congratulations!!!\n"
     ]
    }
   ],
   "source": [
    "shout() #this is how to call a function"
   ]
  },
  {
   "cell_type": "markdown",
   "metadata": {},
   "source": [
    "## 1.4 Single-parameter functions\n",
    "\n",
    "Congratulations! You have successfully defined and called your own function! That's pretty cool.\n",
    "\n",
    "In the previous exercise, you defined and called the function **`shout()`**, which printed out a string concatenated with '!!!'. You will now update **`shout()`** by adding a *parameter* so that it can accept and process any string argument passed to it. Also note that **`shout(word)`**, the part of the header that specifies the function name and parameter(s), is known as the signature of the function. You may encounter this term in the wild!\n",
    "\n",
    "### Instructions\n",
    "Complete the function header by adding the parameter name, `word`.\n",
    "Assign the result of concatenating `word` with `'!!!`' to `shout_word`.\n",
    "Print the value of `shout_word`.\n",
    "Call the `shout()` function, passing to it the string, `'congratulations'`"
   ]
  },
  {
   "cell_type": "code",
   "execution_count": 5,
   "metadata": {
    "collapsed": true
   },
   "outputs": [],
   "source": [
    "def shout(word): #updating the function shout to accept a parameter\n",
    "    \"\"\"Print a string with three exclamation marks\"\"\" #This is for code docummentation. Use three inverted commas e.g.\"\"\"this is a comment\"\"\"\n",
    "    #Concantenates the strings: shout_word\n",
    "    shout_word = word + \"!!!\"\n",
    "    print (shout_word)"
   ]
  },
  {
   "cell_type": "code",
   "execution_count": 6,
   "metadata": {
    "collapsed": false
   },
   "outputs": [
    {
     "name": "stdout",
     "output_type": "stream",
     "text": [
      "congratulations!!!\n"
     ]
    }
   ],
   "source": [
    "shout(\"congratulations\")"
   ]
  },
  {
   "cell_type": "code",
   "execution_count": 7,
   "metadata": {
    "collapsed": false
   },
   "outputs": [
    {
     "name": "stdout",
     "output_type": "stream",
     "text": [
      "hello!!!\n"
     ]
    }
   ],
   "source": [
    "shout(\"hello\")"
   ]
  },
  {
   "cell_type": "markdown",
   "metadata": {},
   "source": [
    "## 1.5 Functions that return single values\n",
    "\n",
    "You're getting very good at this! Try your hand at another modification to the `shout()` function so that it now returns a single value instead of printing within the function. Recall that the *`return`* keyword lets you return values from functions. Parts of the function `shout()`, which you wrote earlier, are shown. Returning values is generally more desirable than printing them out because, as you saw eariler, a `print()` call assigned to a variable has type *`NoneType`*.\n",
    "\n",
    "### Instructions\n",
    "* In the function body, concatenate the string in `word` with `'!!!'` and assign to `shout_word`.\n",
    "* Replace the `print()` statement with the appropriate return statement.\n",
    "* Call the `shout()` function, passing to it the string, `'congratulations'`, and assigning the call to the variable, `yell`.\n",
    "* To check if `yell` contains the value returned by `shout()`, print the value of `yell`."
   ]
  },
  {
   "cell_type": "code",
   "execution_count": 8,
   "metadata": {
    "collapsed": true
   },
   "outputs": [],
   "source": [
    "def shout (word):\n",
    "    \"\"\"Print a string with exclamation marks\"\"\"\n",
    "    shout_word = word + \"!!!\"\n",
    "    return shout_word"
   ]
  },
  {
   "cell_type": "code",
   "execution_count": 9,
   "metadata": {
    "collapsed": true
   },
   "outputs": [],
   "source": [
    "yell = shout(\"congratulations\")"
   ]
  },
  {
   "cell_type": "code",
   "execution_count": 10,
   "metadata": {
    "collapsed": false
   },
   "outputs": [
    {
     "name": "stdout",
     "output_type": "stream",
     "text": [
      "<class 'str'>\n"
     ]
    }
   ],
   "source": [
    "print(type(yell))"
   ]
  },
  {
   "cell_type": "code",
   "execution_count": 11,
   "metadata": {
    "collapsed": false
   },
   "outputs": [
    {
     "name": "stdout",
     "output_type": "stream",
     "text": [
      "congratulations!!!\n"
     ]
    }
   ],
   "source": [
    "print(yell)"
   ]
  },
  {
   "cell_type": "code",
   "execution_count": null,
   "metadata": {
    "collapsed": true
   },
   "outputs": [],
   "source": []
  }
 ],
 "metadata": {
  "kernelspec": {
   "display_name": "Python 3",
   "language": "python",
   "name": "python3"
  },
  "language_info": {
   "codemirror_mode": {
    "name": "ipython",
    "version": 3
   },
   "file_extension": ".py",
   "mimetype": "text/x-python",
   "name": "python",
   "nbconvert_exporter": "python",
   "pygments_lexer": "ipython3",
   "version": "3.6.0"
  }
 },
 "nbformat": 4,
 "nbformat_minor": 2
}
